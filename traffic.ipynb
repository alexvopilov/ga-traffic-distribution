{
 "cells": [
  {
   "cell_type": "code",
   "execution_count": 74,
   "metadata": {
    "ExecuteTime": {
     "end_time": "2021-01-01T14:27:26.837224Z",
     "start_time": "2021-01-01T14:27:26.834954Z"
    }
   },
   "outputs": [],
   "source": [
    "import numpy as np\n",
    "import pandas as pd"
   ]
  },
  {
   "cell_type": "code",
   "execution_count": 75,
   "metadata": {
    "ExecuteTime": {
     "end_time": "2021-01-01T14:27:26.932771Z",
     "start_time": "2021-01-01T14:27:26.929368Z"
    }
   },
   "outputs": [],
   "source": [
    "class BKM321:\n",
    "    def __init__(self):\n",
    "        self.seat_places = 26\n",
    "        self.capacity = 115\n",
    "        self.count = 101"
   ]
  },
  {
   "cell_type": "code",
   "execution_count": 76,
   "metadata": {
    "ExecuteTime": {
     "end_time": "2021-01-01T14:27:27.144206Z",
     "start_time": "2021-01-01T14:27:27.140462Z"
    }
   },
   "outputs": [],
   "source": [
    "class Trolleybus:\n",
    "    def __init__(self,id,cars=0,people=0,model=BKM321):\n",
    "        self.id = id\n",
    "        self.car = model()\n",
    "        self.cars = cars\n",
    "        self.people = people"
   ]
  },
  {
   "cell_type": "code",
   "execution_count": 84,
   "metadata": {
    "ExecuteTime": {
     "end_time": "2021-01-01T14:28:44.417533Z",
     "start_time": "2021-01-01T14:28:44.409794Z"
    }
   },
   "outputs": [],
   "source": [
    "class Traffic:\n",
    "    def __init__(self, tbuses, days = 5, cars = 1, people = 1):\n",
    "        self.tbuses = []\n",
    "        self.days = days\n",
    "        \n",
    "        for t in tbuses:\n",
    "            self.tbuses.append(Trolleybus(id=t,cars=cars,people=people))\n",
    "            \n",
    "    def tolist(self):\n",
    "        return [[[t.id,t.cars,t.people] for t in self.tbuses] for _ in range(self.days)]\n",
    "    \n",
    "    def toarray(self):\n",
    "        return np.array(self.tolist())\n",
    "            \n",
    "    def __str__(self):\n",
    "        r = []\n",
    "        for d in range(self.days):\n",
    "            r.append(f\"Day {d+1}: \")\n",
    "            for t in self.tbuses:\n",
    "                r.append(f\"{t.id} {t.cars} {t.people} | \")\n",
    "            r.append(\"\\n\")\n",
    "        return \"\".join(r)\n",
    "    \n",
    "    def __repr__(self):\n",
    "        return self.__str__()"
   ]
  },
  {
   "cell_type": "code",
   "execution_count": 93,
   "metadata": {
    "ExecuteTime": {
     "end_time": "2021-01-01T14:31:07.112517Z",
     "start_time": "2021-01-01T14:31:07.108709Z"
    }
   },
   "outputs": [],
   "source": [
    "def cost(traffic, traffic_goal):\n",
    "    errors = traffic - traffic_goal\n",
    "    overtr = abs(errors[errors > 0].sum())\n",
    "    undertr = abs(errors[errors < 0].sum())\n",
    "    \n",
    "    overtr_c = 1\n",
    "    undertr_c = 1\n",
    "    \n",
    "    cost = overtr_c * overtr + undertr_c * undertr\n",
    "    return cost"
   ]
  },
  {
   "cell_type": "code",
   "execution_count": 96,
   "metadata": {
    "ExecuteTime": {
     "end_time": "2021-01-01T14:33:40.686198Z",
     "start_time": "2021-01-01T14:33:40.683812Z"
    }
   },
   "outputs": [],
   "source": [
    "def generate_random_traffic(tbuses, days):\n",
    "    route_nums = (7,10,11,12,16,24,25,29,32)\n",
    "    cars = np.random.randint(1,)\n",
    "    traffic = Traffic(tbuses = route_nums, days = days, cars = cars, people = people)\n",
    "    return traffic"
   ]
  },
  {
   "cell_type": "code",
   "execution_count": 73,
   "metadata": {
    "ExecuteTime": {
     "end_time": "2021-01-01T13:59:15.369457Z",
     "start_time": "2021-01-01T13:59:15.365920Z"
    }
   },
   "outputs": [
    {
     "data": {
      "text/plain": [
       "<__main__.Trolleybus at 0x7f2a8c8dde90>"
      ]
     },
     "execution_count": 73,
     "metadata": {},
     "output_type": "execute_result"
    }
   ],
   "source": []
  },
  {
   "cell_type": "code",
   "execution_count": 95,
   "metadata": {
    "ExecuteTime": {
     "end_time": "2021-01-01T14:32:06.645932Z",
     "start_time": "2021-01-01T14:32:06.641620Z"
    }
   },
   "outputs": [
    {
     "data": {
      "text/plain": [
       "Day 1: 7 0 20 | 10 0 20 | 11 0 20 | 12 0 20 | 16 0 20 | 24 0 20 | 25 0 20 | 29 0 20 | 32 0 20 | \n",
       "Day 2: 7 0 20 | 10 0 20 | 11 0 20 | 12 0 20 | 16 0 20 | 24 0 20 | 25 0 20 | 29 0 20 | 32 0 20 | \n",
       "Day 3: 7 0 20 | 10 0 20 | 11 0 20 | 12 0 20 | 16 0 20 | 24 0 20 | 25 0 20 | 29 0 20 | 32 0 20 | \n",
       "Day 4: 7 0 20 | 10 0 20 | 11 0 20 | 12 0 20 | 16 0 20 | 24 0 20 | 25 0 20 | 29 0 20 | 32 0 20 | \n",
       "Day 5: 7 0 20 | 10 0 20 | 11 0 20 | 12 0 20 | 16 0 20 | 24 0 20 | 25 0 20 | 29 0 20 | 32 0 20 | \n",
       "Day 6: 7 0 20 | 10 0 20 | 11 0 20 | 12 0 20 | 16 0 20 | 24 0 20 | 25 0 20 | 29 0 20 | 32 0 20 | \n",
       "Day 7: 7 0 20 | 10 0 20 | 11 0 20 | 12 0 20 | 16 0 20 | 24 0 20 | 25 0 20 | 29 0 20 | 32 0 20 | "
      ]
     },
     "execution_count": 95,
     "metadata": {},
     "output_type": "execute_result"
    }
   ],
   "source": []
  },
  {
   "cell_type": "code",
   "execution_count": null,
   "metadata": {},
   "outputs": [],
   "source": [
    "goal_cars = 1\n",
    "goal_people = 1500\n",
    "goal = np.array([[[r,goal_cars,goal_people] for r in route_nums] for _ in range(days)])\n",
    "goal[0]"
   ]
  }
 ],
 "metadata": {
  "kernelspec": {
   "display_name": "Python 3",
   "language": "python",
   "name": "python3"
  },
  "language_info": {
   "codemirror_mode": {
    "name": "ipython",
    "version": 3
   },
   "file_extension": ".py",
   "mimetype": "text/x-python",
   "name": "python",
   "nbconvert_exporter": "python",
   "pygments_lexer": "ipython3",
   "version": "3.7.6"
  },
  "varInspector": {
   "cols": {
    "lenName": 16,
    "lenType": 16,
    "lenVar": 40
   },
   "kernels_config": {
    "python": {
     "delete_cmd_postfix": "",
     "delete_cmd_prefix": "del ",
     "library": "var_list.py",
     "varRefreshCmd": "print(var_dic_list())"
    },
    "r": {
     "delete_cmd_postfix": ") ",
     "delete_cmd_prefix": "rm(",
     "library": "var_list.r",
     "varRefreshCmd": "cat(var_dic_list()) "
    }
   },
   "types_to_exclude": [
    "module",
    "function",
    "builtin_function_or_method",
    "instance",
    "_Feature"
   ],
   "window_display": false
  }
 },
 "nbformat": 4,
 "nbformat_minor": 4
}
