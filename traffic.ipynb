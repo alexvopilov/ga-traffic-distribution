{
 "cells": [
  {
   "cell_type": "markdown",
   "metadata": {},
   "source": [
    "Популяция состоит из трафиков.  \n",
    "Трафик состоит из периодов.  \n",
    "Периоды включают в себя троллейбусы.  \n",
    "Троллейбусы говорят о кол-ве машин и людях.  "
   ]
  },
  {
   "cell_type": "code",
   "execution_count": 1,
   "metadata": {
    "ExecuteTime": {
     "end_time": "2021-01-02T16:40:12.119142Z",
     "start_time": "2021-01-02T16:40:11.722246Z"
    }
   },
   "outputs": [],
   "source": [
    "import numpy as np\n",
    "import pandas as pd\n",
    "\n",
    "from matplotlib import pyplot as plt"
   ]
  },
  {
   "cell_type": "code",
   "execution_count": 2,
   "metadata": {
    "ExecuteTime": {
     "end_time": "2021-01-02T16:40:12.123344Z",
     "start_time": "2021-01-02T16:40:12.120521Z"
    }
   },
   "outputs": [],
   "source": [
    "ROUTES = (7,10,11,12,16,24,25,29,32)\n",
    "DAYS = 31\n",
    "POPULATION_COUNT = 500\n",
    "GENERATIONS = 150"
   ]
  },
  {
   "cell_type": "code",
   "execution_count": 3,
   "metadata": {
    "ExecuteTime": {
     "end_time": "2021-01-02T16:40:12.197217Z",
     "start_time": "2021-01-02T16:40:12.124944Z"
    }
   },
   "outputs": [],
   "source": [
    "class BKM321:\n",
    "    seat_places = 26\n",
    "    capacity = 115\n",
    "    count = 101"
   ]
  },
  {
   "cell_type": "code",
   "execution_count": 4,
   "metadata": {
    "ExecuteTime": {
     "end_time": "2021-01-02T16:40:12.247017Z",
     "start_time": "2021-01-02T16:40:12.198809Z"
    }
   },
   "outputs": [],
   "source": [
    "class Trolleybus:\n",
    "    def __init__(self,id,cars=1,people=1500,model=BKM321):\n",
    "        self.id = id\n",
    "        self.car = model()\n",
    "        self.cars = cars\n",
    "        self.people = people"
   ]
  },
  {
   "cell_type": "code",
   "execution_count": 5,
   "metadata": {
    "ExecuteTime": {
     "end_time": "2021-01-02T16:40:12.325088Z",
     "start_time": "2021-01-02T16:40:12.248303Z"
    }
   },
   "outputs": [],
   "source": [
    "class Traffic:\n",
    "    def __init__(self,tbuses,days=5,model=BKM321, random=True):\n",
    "        self.tbuses = []\n",
    "        self.days = days\n",
    "        \n",
    "        for d in range(self.days):\n",
    "            self.tbuses.append([])\n",
    "            \n",
    "            if random:\n",
    "                for t in tbuses:\n",
    "                    cars = np.random.randint(1,model.count/len(ROUTES)+1)\n",
    "                    people = np.random.randint(1,cars*model.capacity+1)\n",
    "                    self.tbuses[d].append(Trolleybus(id=t,cars=cars,people=people))\n",
    "            \n",
    "    def tolist(self):\n",
    "        return [[[t.id,t.cars,t.people] for t in period] for period in self.tbuses]\n",
    "    \n",
    "    def toarray(self):\n",
    "        return np.array(self.tolist())\n",
    "    \n",
    "    @staticmethod\n",
    "    def create(nparray,days):\n",
    "        traf_array = Traffic(ROUTES,days,random=False)\n",
    "        for d in range(len(nparray)):\n",
    "            for c in range(len(nparray[d])):\n",
    "                t = Trolleybus(id=nparray[d][c][0],cars=nparray[d][c][1],people=nparray[d][c][2])\n",
    "                traf_array.tbuses[d].append(t)\n",
    "        return traf_array\n",
    "    \n",
    "    @staticmethod\n",
    "    def to_traffics(arrays,days):\n",
    "        for i in range(len(arrays)):\n",
    "            arrays[i] = Traffic.create(arrays[i],days)\n",
    "        return arrays\n",
    "            \n",
    "    def __str__(self):\n",
    "        r = []\n",
    "        for d in range(len(self.tbuses)):\n",
    "            r.append(f\"Day {d+1}: \")\n",
    "            for t in self.tbuses[d]:\n",
    "                r.append(f\"{t.id} {t.cars} {t.people} | \")\n",
    "            r.append(\"\\n\")\n",
    "        return \"\".join(r)\n",
    "    \n",
    "    def __repr__(self):\n",
    "        return self.__str__()"
   ]
  },
  {
   "cell_type": "code",
   "execution_count": 6,
   "metadata": {
    "ExecuteTime": {
     "end_time": "2021-01-02T16:40:12.371993Z",
     "start_time": "2021-01-02T16:40:12.326491Z"
    }
   },
   "outputs": [],
   "source": [
    "def generate_random_traffic(days, model = BKM321):\n",
    "    traffic = Traffic(tbuses = ROUTES, days = days, model = model)\n",
    "    return traffic"
   ]
  },
  {
   "cell_type": "code",
   "execution_count": 7,
   "metadata": {
    "ExecuteTime": {
     "end_time": "2021-01-02T16:40:12.413546Z",
     "start_time": "2021-01-02T16:40:12.373523Z"
    }
   },
   "outputs": [],
   "source": [
    "def population(n, days = 7):\n",
    "    population = []\n",
    "    for _ in range(n):\n",
    "        population.append(generate_random_traffic(days))\n",
    "    return population"
   ]
  },
  {
   "cell_type": "code",
   "execution_count": 8,
   "metadata": {
    "ExecuteTime": {
     "end_time": "2021-01-02T16:40:12.475062Z",
     "start_time": "2021-01-02T16:40:12.415872Z"
    }
   },
   "outputs": [],
   "source": [
    "def cost(traffic, traffic_goal):\n",
    "    errors = traffic - traffic_goal\n",
    "    cost = 0\n",
    "    for i in errors:\n",
    "        for j in i:\n",
    "            cost += abs(j[1] * j[2])\n",
    "    return cost"
   ]
  },
  {
   "cell_type": "code",
   "execution_count": 9,
   "metadata": {
    "ExecuteTime": {
     "end_time": "2021-01-02T16:40:12.522418Z",
     "start_time": "2021-01-02T16:40:12.477059Z"
    }
   },
   "outputs": [],
   "source": [
    "def get_population(generation):\n",
    "    inds = dict()\n",
    "    for i in range(len(generation)):\n",
    "        for j in range(len(generation[i].tbuses)):\n",
    "            for k in range(len(generation[i].tbuses[j])):\n",
    "                t = get_tbus(generation,i,j,k)\n",
    "                key = (i,j,k)\n",
    "                value = (t.cars,t.people)\n",
    "                inds[key] = value\n",
    "    return inds\n",
    "def sort_population(individuals):\n",
    "    return sorted(individuals, key=lambda k: (individuals[k][0], individuals[k][1]))\n",
    "def get_tbus(generation,i,j,k):\n",
    "    return generation[i].tbuses[j][k]"
   ]
  },
  {
   "cell_type": "code",
   "execution_count": 10,
   "metadata": {
    "ExecuteTime": {
     "end_time": "2021-01-02T16:40:12.564029Z",
     "start_time": "2021-01-02T16:40:12.523675Z"
    }
   },
   "outputs": [],
   "source": [
    "def select_best(generation, goal):\n",
    "    best = {}\n",
    "    for g in range(len(generation)):\n",
    "        best[g] = cost(generation[g].toarray(),goal)\n",
    "    _best = sorted(best, key=lambda k: best[k])\n",
    "    best = []\n",
    "    for b in _best[:POPULATION_COUNT//2]:\n",
    "        best.append(generation[b])\n",
    "    return best"
   ]
  },
  {
   "cell_type": "code",
   "execution_count": 11,
   "metadata": {
    "ExecuteTime": {
     "end_time": "2021-01-02T16:40:12.605657Z",
     "start_time": "2021-01-02T16:40:12.565409Z"
    }
   },
   "outputs": [],
   "source": [
    "def crossover(parents, offspring_count):\n",
    "    parents_count = len(parents)\n",
    "    \n",
    "    offsprings = []\n",
    "    for i in range(offspring_count):\n",
    "        for j in range(parents_count):\n",
    "            parent1 = parents[np.random.randint(0, parents_count)].toarray()\n",
    "            parent2 = parents[np.random.randint(0, parents_count)].toarray()\n",
    "\n",
    "            parent1_mask = np.random.randint(0, 2, size = parent1.shape)\n",
    "            parent2_mask = np.logical_not(parent1_mask)\n",
    "\n",
    "            offspring = np.add(np.multiply(parent1, parent1_mask), np.multiply(parent2, parent2_mask))\n",
    "            offspring = np.array(offspring)\n",
    "            offsprings.append(Traffic.create(offspring,DAYS))\n",
    "        \n",
    "    return offsprings"
   ]
  },
  {
   "cell_type": "code",
   "execution_count": 12,
   "metadata": {
    "ExecuteTime": {
     "end_time": "2021-01-02T16:40:12.655447Z",
     "start_time": "2021-01-02T16:40:12.606989Z"
    }
   },
   "outputs": [],
   "source": [
    "def mutation(individual, mutations_count):\n",
    "    size1 = individual.shape[0]\n",
    "    size2 = individual.shape[1]\n",
    "    for i in range(mutations_count):\n",
    "        day = np.random.randint(0, size1)\n",
    "        tbus = np.random.randint(0, size2)\n",
    "        \n",
    "        #Cars\n",
    "        d = np.random.choice((-1,1))\n",
    "        individual[day,tbus,1] += d\n",
    "        \n",
    "        #People\n",
    "        d = np.random.choice(np.arange(-5,6))\n",
    "        individual[day,tbus,2] += d\n",
    "        \n",
    "    return individual"
   ]
  },
  {
   "cell_type": "code",
   "execution_count": 13,
   "metadata": {
    "ExecuteTime": {
     "end_time": "2021-01-02T16:40:12.713678Z",
     "start_time": "2021-01-02T16:40:12.656694Z"
    }
   },
   "outputs": [],
   "source": [
    "def mutate(offspring):\n",
    "    for i in range(0,len(offspring),2):\n",
    "        offspring[i] = mutation(offspring[i].toarray(), 2)\n",
    "        offspring[i] = Traffic.create(offspring[i],DAYS)\n",
    "    return offspring"
   ]
  },
  {
   "cell_type": "code",
   "execution_count": 14,
   "metadata": {
    "ExecuteTime": {
     "end_time": "2021-01-02T16:40:12.763711Z",
     "start_time": "2021-01-02T16:40:12.714989Z"
    }
   },
   "outputs": [],
   "source": [
    "def set_goal(days, goal_cars = 1, goal_people = 1500):\n",
    "    return np.array([[[r,goal_cars,goal_people] for r in ROUTES] for _ in range(days)])"
   ]
  },
  {
   "cell_type": "code",
   "execution_count": 15,
   "metadata": {
    "ExecuteTime": {
     "end_time": "2021-01-02T16:40:12.813587Z",
     "start_time": "2021-01-02T16:40:12.764991Z"
    }
   },
   "outputs": [],
   "source": [
    "def genetic_algorithm(generation, goal):\n",
    "    best = select_best(generation, goal)    \n",
    "    offsprings = crossover(best, 2)\n",
    "    mutants = mutate(offsprings)\n",
    "    return mutants"
   ]
  },
  {
   "cell_type": "code",
   "execution_count": 16,
   "metadata": {
    "ExecuteTime": {
     "end_time": "2021-01-02T16:44:07.324432Z",
     "start_time": "2021-01-02T16:40:12.814908Z"
    }
   },
   "outputs": [
    {
     "name": "stdout",
     "output_type": "stream",
     "text": [
      "Generation's 0 cost: 1321072, acc: 0.0%\n",
      "Generation's 1 cost: 1286840, acc: 2.59%\n",
      "Generation's 2 cost: 1322588, acc: 0.11%\n",
      "Generation's 3 cost: 1238960, acc: 6.22%\n",
      "Generation's 4 cost: 1207457, acc: 8.6%\n",
      "Generation's 5 cost: 1173072, acc: 11.2%\n",
      "Generation's 6 cost: 1141408, acc: 13.6%\n",
      "Generation's 7 cost: 1158264, acc: 12.32%\n",
      "Generation's 8 cost: 1096412, acc: 17.01%\n",
      "Generation's 9 cost: 1016413, acc: 23.06%\n",
      "Generation's 10 cost: 1041272, acc: 21.18%\n",
      "Generation's 11 cost: 991927, acc: 24.91%\n",
      "Generation's 12 cost: 942254, acc: 28.68%\n",
      "Generation's 13 cost: 928978, acc: 29.68%\n",
      "Generation's 14 cost: 923495, acc: 30.1%\n",
      "Generation's 15 cost: 880786, acc: 33.33%\n",
      "Generation's 16 cost: 846349, acc: 35.93%\n",
      "Generation's 17 cost: 789115, acc: 40.27%\n",
      "Generation's 18 cost: 770021, acc: 41.71%\n",
      "Generation's 19 cost: 765012, acc: 42.09%\n",
      "Generation's 20 cost: 699194, acc: 47.07%\n",
      "Generation's 21 cost: 674180, acc: 48.97%\n",
      "Generation's 22 cost: 649653, acc: 50.82%\n",
      "Generation's 23 cost: 645884, acc: 51.11%\n",
      "Generation's 24 cost: 613798, acc: 53.54%\n",
      "Generation's 25 cost: 609566, acc: 53.86%\n",
      "Generation's 26 cost: 594496, acc: 55.0%\n",
      "Generation's 27 cost: 567131, acc: 57.07%\n",
      "Generation's 28 cost: 529977, acc: 59.88%\n",
      "Generation's 29 cost: 524487, acc: 60.3%\n",
      "Generation's 30 cost: 512764, acc: 61.19%\n",
      "Generation's 31 cost: 477143, acc: 63.88%\n",
      "Generation's 32 cost: 444665, acc: 66.34%\n",
      "Generation's 33 cost: 445045, acc: 66.31%\n",
      "Generation's 34 cost: 420616, acc: 68.16%\n",
      "Generation's 35 cost: 390420, acc: 70.45%\n",
      "Generation's 36 cost: 373949, acc: 71.69%\n",
      "Generation's 37 cost: 356530, acc: 73.01%\n",
      "Generation's 38 cost: 348519, acc: 73.62%\n",
      "Generation's 39 cost: 346900, acc: 73.74%\n",
      "Generation's 40 cost: 332579, acc: 74.83%\n",
      "Generation's 41 cost: 302500, acc: 77.1%\n",
      "Generation's 42 cost: 296275, acc: 77.57%\n",
      "Generation's 43 cost: 299051, acc: 77.36%\n",
      "Generation's 44 cost: 276308, acc: 79.08%\n",
      "Generation's 45 cost: 271240, acc: 79.47%\n",
      "Generation's 46 cost: 258638, acc: 80.42%\n",
      "Generation's 47 cost: 242459, acc: 81.65%\n",
      "Generation's 48 cost: 236594, acc: 82.09%\n",
      "Generation's 49 cost: 222010, acc: 83.19%\n",
      "Generation's 50 cost: 208865, acc: 84.19%\n",
      "Generation's 51 cost: 201866, acc: 84.72%\n",
      "Generation's 52 cost: 192305, acc: 85.44%\n",
      "Generation's 53 cost: 187880, acc: 85.78%\n",
      "Generation's 54 cost: 185456, acc: 85.96%\n",
      "Generation's 55 cost: 168741, acc: 87.23%\n",
      "Generation's 56 cost: 161709, acc: 87.76%\n",
      "Generation's 57 cost: 151893, acc: 88.5%\n",
      "Generation's 58 cost: 137719, acc: 89.58%\n",
      "Generation's 59 cost: 145665, acc: 88.97%\n",
      "Generation's 60 cost: 136248, acc: 89.69%\n",
      "Generation's 61 cost: 132674, acc: 89.96%\n",
      "Generation's 62 cost: 126025, acc: 90.46%\n",
      "Generation's 63 cost: 116031, acc: 91.22%\n",
      "Generation's 64 cost: 118881, acc: 91.0%\n",
      "Generation's 65 cost: 111383, acc: 91.57%\n",
      "Generation's 66 cost: 103410, acc: 92.17%\n",
      "Generation's 67 cost: 98322, acc: 92.56%\n",
      "Generation's 68 cost: 94856, acc: 92.82%\n",
      "Generation's 69 cost: 88004, acc: 93.34%\n",
      "Generation's 70 cost: 86184, acc: 93.48%\n",
      "Generation's 71 cost: 77881, acc: 94.1%\n",
      "Generation's 72 cost: 77158, acc: 94.16%\n",
      "Generation's 73 cost: 71268, acc: 94.61%\n",
      "Generation's 74 cost: 68390, acc: 94.82%\n",
      "Generation's 75 cost: 67758, acc: 94.87%\n",
      "Generation's 76 cost: 63140, acc: 95.22%\n",
      "Generation's 77 cost: 60941, acc: 95.39%\n",
      "Generation's 78 cost: 50446, acc: 96.18%\n",
      "Generation's 79 cost: 49731, acc: 96.24%\n",
      "Generation's 80 cost: 50141, acc: 96.2%\n",
      "Generation's 81 cost: 45756, acc: 96.54%\n",
      "Generation's 82 cost: 42704, acc: 96.77%\n",
      "Generation's 83 cost: 43008, acc: 96.74%\n",
      "Generation's 84 cost: 38220, acc: 97.11%\n",
      "Generation's 85 cost: 38117, acc: 97.11%\n",
      "Generation's 86 cost: 32012, acc: 97.58%\n",
      "Generation's 87 cost: 31447, acc: 97.62%\n",
      "Generation's 88 cost: 31370, acc: 97.63%\n",
      "Generation's 89 cost: 31247, acc: 97.63%\n",
      "Generation's 90 cost: 28035, acc: 97.88%\n",
      "Generation's 91 cost: 27371, acc: 97.93%\n",
      "Generation's 92 cost: 20993, acc: 98.41%\n",
      "Generation's 93 cost: 23469, acc: 98.22%\n",
      "Generation's 94 cost: 22015, acc: 98.33%\n",
      "Generation's 95 cost: 19652, acc: 98.51%\n",
      "Generation's 96 cost: 16825, acc: 98.73%\n",
      "Generation's 97 cost: 17758, acc: 98.66%\n",
      "Generation's 98 cost: 17183, acc: 98.7%\n",
      "Generation's 99 cost: 14689, acc: 98.89%\n",
      "Generation's 100 cost: 14094, acc: 98.93%\n",
      "Generation's 101 cost: 13998, acc: 98.94%\n",
      "Generation's 102 cost: 13061, acc: 99.01%\n",
      "Generation's 103 cost: 12393, acc: 99.06%\n",
      "Generation's 104 cost: 11136, acc: 99.16%\n",
      "Generation's 105 cost: 9479, acc: 99.28%\n",
      "Generation's 106 cost: 7612, acc: 99.42%\n",
      "Generation's 107 cost: 7683, acc: 99.42%\n",
      "Generation's 108 cost: 7510, acc: 99.43%\n",
      "Generation's 109 cost: 7829, acc: 99.41%\n",
      "Generation's 110 cost: 7290, acc: 99.45%\n",
      "Generation's 111 cost: 5872, acc: 99.56%\n",
      "Generation's 112 cost: 6059, acc: 99.54%\n",
      "Generation's 113 cost: 5693, acc: 99.57%\n",
      "Generation's 114 cost: 4591, acc: 99.65%\n",
      "Generation's 115 cost: 4025, acc: 99.7%\n",
      "Generation's 116 cost: 4289, acc: 99.68%\n",
      "Generation's 117 cost: 3922, acc: 99.7%\n",
      "Generation's 118 cost: 4352, acc: 99.67%\n",
      "Generation's 119 cost: 3454, acc: 99.74%\n",
      "Generation's 120 cost: 3379, acc: 99.74%\n",
      "Generation's 121 cost: 2264, acc: 99.83%\n",
      "Generation's 122 cost: 2655, acc: 99.8%\n",
      "Generation's 123 cost: 2344, acc: 99.82%\n",
      "Generation's 124 cost: 2458, acc: 99.81%\n",
      "Generation's 125 cost: 1576, acc: 99.88%\n",
      "Generation's 126 cost: 1587, acc: 99.88%\n",
      "Generation's 127 cost: 1656, acc: 99.87%\n",
      "Generation's 128 cost: 1257, acc: 99.9%\n",
      "Generation's 129 cost: 1693, acc: 99.87%\n",
      "Generation's 130 cost: 1220, acc: 99.91%\n",
      "Generation's 131 cost: 1176, acc: 99.91%\n",
      "Generation's 132 cost: 764, acc: 99.94%\n",
      "Generation's 133 cost: 632, acc: 99.95%\n",
      "Generation's 134 cost: 421, acc: 99.97%\n",
      "Generation's 135 cost: 632, acc: 99.95%\n",
      "Generation's 136 cost: 421, acc: 99.97%\n",
      "Generation's 137 cost: 362, acc: 99.97%\n"
     ]
    },
    {
     "ename": "KeyboardInterrupt",
     "evalue": "",
     "output_type": "error",
     "traceback": [
      "\u001b[0;31m---------------------------------------------------------------------------\u001b[0m",
      "\u001b[0;31mKeyboardInterrupt\u001b[0m                         Traceback (most recent call last)",
      "\u001b[0;32m<ipython-input-16-4dd0468fa9b6>\u001b[0m in \u001b[0;36m<module>\u001b[0;34m\u001b[0m\n\u001b[1;32m      6\u001b[0m \u001b[0;34m\u001b[0m\u001b[0m\n\u001b[1;32m      7\u001b[0m \u001b[0;32mfor\u001b[0m \u001b[0mg\u001b[0m \u001b[0;32min\u001b[0m \u001b[0mrange\u001b[0m\u001b[0;34m(\u001b[0m\u001b[0mGENERATIONS\u001b[0m\u001b[0;34m)\u001b[0m\u001b[0;34m:\u001b[0m\u001b[0;34m\u001b[0m\u001b[0;34m\u001b[0m\u001b[0m\n\u001b[0;32m----> 8\u001b[0;31m     \u001b[0mgeneration\u001b[0m \u001b[0;34m=\u001b[0m \u001b[0mgenetic_algorithm\u001b[0m\u001b[0;34m(\u001b[0m\u001b[0mgeneration\u001b[0m\u001b[0;34m,\u001b[0m\u001b[0mgoal\u001b[0m\u001b[0;34m)\u001b[0m\u001b[0;34m\u001b[0m\u001b[0;34m\u001b[0m\u001b[0m\n\u001b[0m\u001b[1;32m      9\u001b[0m \u001b[0;34m\u001b[0m\u001b[0m\n\u001b[1;32m     10\u001b[0m     \u001b[0;31m#Accuracy\u001b[0m\u001b[0;34m\u001b[0m\u001b[0;34m\u001b[0m\u001b[0;34m\u001b[0m\u001b[0m\n",
      "\u001b[0;31mKeyboardInterrupt\u001b[0m: "
     ]
    }
   ],
   "source": [
    "goal = set_goal(days=DAYS,goal_cars=1,goal_people=1500)\n",
    "generation = population(POPULATION_COUNT,DAYS)\n",
    "_generation = generation\n",
    "_fcost = 0\n",
    "acc_list = []\n",
    "\n",
    "for g in range(GENERATIONS):\n",
    "    generation = genetic_algorithm(generation,goal)\n",
    "    \n",
    "    #Accuracy\n",
    "    _cost = cost(select_best(generation,goal)[0].toarray(),goal)\n",
    "    if _fcost == 0:\n",
    "        _fcost = _cost\n",
    "    acc = abs(round((1 - _cost / _fcost)*100,2))\n",
    "    acc_list.append(acc)\n",
    "    \n",
    "    print(f\"Generation's {g} cost: {_cost}, acc: {acc}%\")"
   ]
  },
  {
   "cell_type": "code",
   "execution_count": 17,
   "metadata": {
    "ExecuteTime": {
     "end_time": "2021-01-02T16:44:09.583780Z",
     "start_time": "2021-01-02T16:44:09.338473Z"
    }
   },
   "outputs": [
    {
     "data": {
      "text/html": [
       "<div>\n",
       "<style scoped>\n",
       "    .dataframe tbody tr th:only-of-type {\n",
       "        vertical-align: middle;\n",
       "    }\n",
       "\n",
       "    .dataframe tbody tr th {\n",
       "        vertical-align: top;\n",
       "    }\n",
       "\n",
       "    .dataframe thead th {\n",
       "        text-align: right;\n",
       "    }\n",
       "</style>\n",
       "<table border=\"1\" class=\"dataframe\">\n",
       "  <thead>\n",
       "    <tr style=\"text-align: right;\">\n",
       "      <th></th>\n",
       "      <th>ID</th>\n",
       "      <th>Cars</th>\n",
       "      <th>People</th>\n",
       "    </tr>\n",
       "  </thead>\n",
       "  <tbody>\n",
       "    <tr>\n",
       "      <th>0</th>\n",
       "      <td>7</td>\n",
       "      <td>1</td>\n",
       "      <td>215</td>\n",
       "    </tr>\n",
       "    <tr>\n",
       "      <th>1</th>\n",
       "      <td>10</td>\n",
       "      <td>1</td>\n",
       "      <td>339</td>\n",
       "    </tr>\n",
       "    <tr>\n",
       "      <th>2</th>\n",
       "      <td>11</td>\n",
       "      <td>1</td>\n",
       "      <td>264</td>\n",
       "    </tr>\n",
       "    <tr>\n",
       "      <th>3</th>\n",
       "      <td>12</td>\n",
       "      <td>1</td>\n",
       "      <td>279</td>\n",
       "    </tr>\n",
       "    <tr>\n",
       "      <th>4</th>\n",
       "      <td>16</td>\n",
       "      <td>1</td>\n",
       "      <td>611</td>\n",
       "    </tr>\n",
       "    <tr>\n",
       "      <th>5</th>\n",
       "      <td>24</td>\n",
       "      <td>1</td>\n",
       "      <td>315</td>\n",
       "    </tr>\n",
       "    <tr>\n",
       "      <th>6</th>\n",
       "      <td>25</td>\n",
       "      <td>1</td>\n",
       "      <td>146</td>\n",
       "    </tr>\n",
       "    <tr>\n",
       "      <th>7</th>\n",
       "      <td>29</td>\n",
       "      <td>1</td>\n",
       "      <td>1114</td>\n",
       "    </tr>\n",
       "    <tr>\n",
       "      <th>8</th>\n",
       "      <td>32</td>\n",
       "      <td>1</td>\n",
       "      <td>463</td>\n",
       "    </tr>\n",
       "    <tr>\n",
       "      <th>9</th>\n",
       "      <td>7</td>\n",
       "      <td>1</td>\n",
       "      <td>938</td>\n",
       "    </tr>\n",
       "    <tr>\n",
       "      <th>10</th>\n",
       "      <td>10</td>\n",
       "      <td>1</td>\n",
       "      <td>597</td>\n",
       "    </tr>\n",
       "    <tr>\n",
       "      <th>11</th>\n",
       "      <td>11</td>\n",
       "      <td>1</td>\n",
       "      <td>366</td>\n",
       "    </tr>\n",
       "    <tr>\n",
       "      <th>12</th>\n",
       "      <td>12</td>\n",
       "      <td>1</td>\n",
       "      <td>184</td>\n",
       "    </tr>\n",
       "    <tr>\n",
       "      <th>13</th>\n",
       "      <td>16</td>\n",
       "      <td>1</td>\n",
       "      <td>822</td>\n",
       "    </tr>\n",
       "    <tr>\n",
       "      <th>14</th>\n",
       "      <td>24</td>\n",
       "      <td>1</td>\n",
       "      <td>1230</td>\n",
       "    </tr>\n",
       "    <tr>\n",
       "      <th>15</th>\n",
       "      <td>25</td>\n",
       "      <td>1</td>\n",
       "      <td>470</td>\n",
       "    </tr>\n",
       "    <tr>\n",
       "      <th>16</th>\n",
       "      <td>29</td>\n",
       "      <td>1</td>\n",
       "      <td>529</td>\n",
       "    </tr>\n",
       "    <tr>\n",
       "      <th>17</th>\n",
       "      <td>32</td>\n",
       "      <td>1</td>\n",
       "      <td>118</td>\n",
       "    </tr>\n",
       "    <tr>\n",
       "      <th>18</th>\n",
       "      <td>7</td>\n",
       "      <td>1</td>\n",
       "      <td>98</td>\n",
       "    </tr>\n",
       "    <tr>\n",
       "      <th>19</th>\n",
       "      <td>10</td>\n",
       "      <td>1</td>\n",
       "      <td>21</td>\n",
       "    </tr>\n",
       "    <tr>\n",
       "      <th>20</th>\n",
       "      <td>11</td>\n",
       "      <td>1</td>\n",
       "      <td>750</td>\n",
       "    </tr>\n",
       "    <tr>\n",
       "      <th>21</th>\n",
       "      <td>12</td>\n",
       "      <td>1</td>\n",
       "      <td>424</td>\n",
       "    </tr>\n",
       "    <tr>\n",
       "      <th>22</th>\n",
       "      <td>16</td>\n",
       "      <td>1</td>\n",
       "      <td>80</td>\n",
       "    </tr>\n",
       "    <tr>\n",
       "      <th>23</th>\n",
       "      <td>24</td>\n",
       "      <td>1</td>\n",
       "      <td>347</td>\n",
       "    </tr>\n",
       "    <tr>\n",
       "      <th>24</th>\n",
       "      <td>25</td>\n",
       "      <td>1</td>\n",
       "      <td>774</td>\n",
       "    </tr>\n",
       "    <tr>\n",
       "      <th>25</th>\n",
       "      <td>29</td>\n",
       "      <td>1</td>\n",
       "      <td>1027</td>\n",
       "    </tr>\n",
       "    <tr>\n",
       "      <th>26</th>\n",
       "      <td>32</td>\n",
       "      <td>1</td>\n",
       "      <td>1059</td>\n",
       "    </tr>\n",
       "    <tr>\n",
       "      <th>27</th>\n",
       "      <td>7</td>\n",
       "      <td>1</td>\n",
       "      <td>1145</td>\n",
       "    </tr>\n",
       "    <tr>\n",
       "      <th>28</th>\n",
       "      <td>10</td>\n",
       "      <td>1</td>\n",
       "      <td>1051</td>\n",
       "    </tr>\n",
       "    <tr>\n",
       "      <th>29</th>\n",
       "      <td>11</td>\n",
       "      <td>1</td>\n",
       "      <td>675</td>\n",
       "    </tr>\n",
       "    <tr>\n",
       "      <th>30</th>\n",
       "      <td>12</td>\n",
       "      <td>1</td>\n",
       "      <td>927</td>\n",
       "    </tr>\n",
       "  </tbody>\n",
       "</table>\n",
       "</div>"
      ],
      "text/plain": [
       "    ID  Cars  People\n",
       "0    7     1     215\n",
       "1   10     1     339\n",
       "2   11     1     264\n",
       "3   12     1     279\n",
       "4   16     1     611\n",
       "5   24     1     315\n",
       "6   25     1     146\n",
       "7   29     1    1114\n",
       "8   32     1     463\n",
       "9    7     1     938\n",
       "10  10     1     597\n",
       "11  11     1     366\n",
       "12  12     1     184\n",
       "13  16     1     822\n",
       "14  24     1    1230\n",
       "15  25     1     470\n",
       "16  29     1     529\n",
       "17  32     1     118\n",
       "18   7     1      98\n",
       "19  10     1      21\n",
       "20  11     1     750\n",
       "21  12     1     424\n",
       "22  16     1      80\n",
       "23  24     1     347\n",
       "24  25     1     774\n",
       "25  29     1    1027\n",
       "26  32     1    1059\n",
       "27   7     1    1145\n",
       "28  10     1    1051\n",
       "29  11     1     675\n",
       "30  12     1     927"
      ]
     },
     "execution_count": 17,
     "metadata": {},
     "output_type": "execute_result"
    }
   ],
   "source": [
    "THE_BEST = select_best(generation,goal)\n",
    "pd.DataFrame(THE_BEST[0].toarray().reshape(-1,3)[:DAYS], columns=(\"ID\",\"Cars\",\"People\"))"
   ]
  },
  {
   "cell_type": "code",
   "execution_count": 19,
   "metadata": {
    "ExecuteTime": {
     "end_time": "2021-01-02T16:44:16.542885Z",
     "start_time": "2021-01-02T16:44:16.383885Z"
    }
   },
   "outputs": [
    {
     "data": {
      "text/plain": [
       "[<matplotlib.lines.Line2D at 0x7f26ebc19990>]"
      ]
     },
     "execution_count": 19,
     "metadata": {},
     "output_type": "execute_result"
    },
    {
     "data": {
      "image/png": "[encoded data removed]",
      "text/plain": [
       "<Figure size 432x288 with 1 Axes>"
      ]
     },
     "metadata": {
      "needs_background": "light"
     },
     "output_type": "display_data"
    }
   ],
   "source": [
    "plt.plot(acc_list)"
   ]
  },
  {
   "cell_type": "code",
   "execution_count": null,
   "metadata": {},
   "outputs": [],
   "source": []
  }
 ],
 "metadata": {
  "kernelspec": {
   "display_name": "Python 3",
   "language": "python",
   "name": "python3"
  },
  "language_info": {
   "codemirror_mode": {
    "name": "ipython",
    "version": 3
   },
   "file_extension": ".py",
   "mimetype": "text/x-python",
   "name": "python",
   "nbconvert_exporter": "python",
   "pygments_lexer": "ipython3",
   "version": "3.7.6"
  },
  "varInspector": {
   "cols": {
    "lenName": 16,
    "lenType": 16,
    "lenVar": 40
   },
   "kernels_config": {
    "python": {
     "delete_cmd_postfix": "",
     "delete_cmd_prefix": "del ",
     "library": "var_list.py",
     "varRefreshCmd": "print(var_dic_list())"
    },
    "r": {
     "delete_cmd_postfix": ") ",
     "delete_cmd_prefix": "rm(",
     "library": "var_list.r",
     "varRefreshCmd": "cat(var_dic_list()) "
    }
   },
   "types_to_exclude": [
    "module",
    "function",
    "builtin_function_or_method",
    "instance",
    "_Feature"
   ],
   "window_display": false
  }
 },
 "nbformat": 4,
 "nbformat_minor": 4
}
